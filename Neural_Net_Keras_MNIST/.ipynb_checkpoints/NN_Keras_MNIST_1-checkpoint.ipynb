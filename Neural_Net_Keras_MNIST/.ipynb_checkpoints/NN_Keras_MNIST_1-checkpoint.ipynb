{
 "cells": [
  {
   "cell_type": "code",
   "execution_count": 6,
   "metadata": {},
   "outputs": [],
   "source": [
    "import matplotlib.pyplot as plt\n",
    "from numpy import mean\n",
    "from numpy import std\n",
    "\n",
    "## SKLEARN\n",
    "from sklearn.model_selection import KFold\n",
    "\n",
    "#TENSORFLOW\n",
    "from tensorflow.keras.datasets import mnist\n",
    "from tensorflow.keras.utils import to_categorical\n",
    "from tensorflow.keras.models import Sequential\n",
    "from tensorflow.keras.layers import Conv2D\n",
    "from tensorflow.keras.layers import MaxPooling2D\n",
    "from tensorflow.keras.layers import Dense\n",
    "from tensorflow.keras.layers import Flatten\n",
    "from tensorflow.keras.optimizers import SGD\n",
    "from tensorflow.keras.models import load_model\n",
    "\n",
    "## Load data\n",
    "(trainX, trainy), (testX, testy)  = mnist.load_data()\n"
   ]
  },
  {
   "cell_type": "code",
   "execution_count": 7,
   "metadata": {},
   "outputs": [
    {
     "name": "stdout",
     "output_type": "stream",
     "text": [
      "Train: X=(60000, 28, 28), y=(60000,)\n",
      "Test: X=(10000, 28, 28), y=(10000,)\n"
     ]
    },
    {
     "data": {
      "image/png": "[encoded data removed]",
      "text/plain": [
       "<Figure size 432x288 with 9 Axes>"
      ]
     },
     "metadata": {
      "needs_background": "light"
     },
     "output_type": "display_data"
    }
   ],
   "source": [
    "# summarize loaded dataset\n",
    "print('Train: X=%s, y=%s' % (trainX.shape, trainy.shape))\n",
    "print('Test: X=%s, y=%s' % (testX.shape, testy.shape))\n",
    "# plot first few images\n",
    "for i in range(9):\n",
    "\t# define subplot\n",
    "\tplt.subplot(330 + 1 + i)\n",
    "\t# plot raw pixel data\n",
    "\tplt.imshow(trainX[i], cmap=plt.get_cmap('gray'))\n",
    "# show the figure\n",
    "plt.show()\n",
    "\n"
   ]
  },
  {
   "cell_type": "code",
   "execution_count": 8,
   "metadata": {},
   "outputs": [],
   "source": [
    "# 1 Loading data and reshaping\n",
    "def load_dataset():\n",
    "    # load dataset\n",
    "    (trainX, trainY), (testX, testY) = mnist.load_data()\n",
    "    \n",
    "    # reshape dataset to have a single channel\n",
    "    trainX = trainX.reshape((trainX.shape[0], 28, 28, 1))\n",
    "    testX = testX.reshape((testX.shape[0], 28, 28, 1))\n",
    "    \n",
    "    # one hot encode target values\n",
    "    trainY = to_categorical(trainY)\n",
    "    testY = to_categorical(testY)\n",
    "    \n",
    "    return trainX, trainY, testX, testY\n",
    " \n",
    "\n"
   ]
  },
  {
   "cell_type": "code",
   "execution_count": 9,
   "metadata": {},
   "outputs": [],
   "source": [
    "# Key note: Pixels of the images in ds are unsigned integers in the range between black and white, or 0 and 255. I will \n",
    "# normalize the pixels by dividing by the total number of potential pixels of 255 and return.\n",
    "\n",
    "\n",
    "# scale pixels\n",
    "def prep_pixels(train, test):\n",
    "    \n",
    "    # convert from integers to floats (1 -> 1.00)\n",
    "    train_norm = train.astype('float32')\n",
    "    test_norm = test.astype('float32')\n",
    "    \n",
    "    # normalize to range 0-1\n",
    "    train_norm = train_norm / 255.0\n",
    "    test_norm = test_norm / 255.0\n",
    "    # return normalized images\n",
    "    return train_norm, test_norm"
   ]
  },
  {
   "cell_type": "code",
   "execution_count": 10,
   "metadata": {},
   "outputs": [],
   "source": [
    "#### MODEL DEFINITION\n",
    "\n",
    "# define cnn model that we will use for project\n",
    "def define_model():\n",
    "    # model creation\n",
    "    model = Sequential([\n",
    "        Conv2D(32, (3, 3), activation='relu', kernel_initializer='he_uniform', input_shape=(28, 28, 1)),\n",
    "        MaxPooling2D(2, 2),\n",
    "        Flatten(),\n",
    "        Dense(100, activation='relu', kernel_initializer='he_uniform'),\n",
    "        Dense(10, activation='softmax')\n",
    "    ])\n",
    "    \n",
    "    # compile model\n",
    "    opt = SGD(learning_rate=0.01, momentum=0.9)\n",
    "    model.compile(optimizer=opt, loss='categorical_crossentropy', metrics=['accuracy'])\n",
    "    return model"
   ]
  },
  {
   "cell_type": "code",
   "execution_count": 11,
   "metadata": {},
   "outputs": [],
   "source": [
    "###### Evaluation of results -> SCKLEARN KFOLD\n",
    "\n",
    "# evaluate a model using k-fold cross-validation\n",
    "def evaluate_model(dataX, dataY, n_folds=5):\n",
    "    \n",
    "    scores, model_histories = list(), list()\n",
    "    \n",
    "    # prepare cross validation\n",
    "    kfold = KFold(n_folds, shuffle=True, random_state=1)\n",
    "    # enumerate splits\n",
    "    for train_ix, test_ix in kfold.split(dataX):\n",
    "        # define model\n",
    "        model = define_model()\n",
    "        # select rows for train and test\n",
    "        trainX, trainY, testX, testY = dataX[train_ix], dataY[train_ix], dataX[test_ix], dataY[test_ix]\n",
    "        # fit model\n",
    "        history = model.fit(trainX, trainY, epochs=10, batch_size=32, validation_data=(testX, testY), verbose=1)\n",
    "        # evaluate model\n",
    "        _, acc = model.evaluate(testX, testY, verbose=0)\n",
    "        print('> %.3f' % (acc * 100.0))\n",
    "        # stores scores\n",
    "        scores.append(acc)\n",
    "        model_histories.append(history)\n",
    "        \n",
    "    return scores, model_histories"
   ]
  },
  {
   "cell_type": "code",
   "execution_count": 12,
   "metadata": {},
   "outputs": [],
   "source": [
    "# plot summarization learning curves\n",
    "def summarize_results(model_histories):\n",
    "    for i in range(len(model_histories)):\n",
    "        # plot loss\n",
    "        plt.subplot(2, 1, 1)\n",
    "        plt.title('Cross Entropy Loss')\n",
    "        plt.plot(model_histories[i].history['loss'], color='red', label='train')\n",
    "        plt.plot(model_histories[i].history['val_loss'], color='blue', label='test')\n",
    "        # plot accuracy\n",
    "        plt.subplot(2, 1, 2)\n",
    "        plt.title('Classification Accuracy')\n",
    "        plt.plot(model_histories[i].history['accuracy'], color='red', label='train')\n",
    "        plt.plot(model_histories[i].history['val_accuracy'], color='blue', label='test')\n",
    "    \n",
    "    ## plot model history\n",
    "    plt.show()"
   ]
  },
  {
   "cell_type": "code",
   "execution_count": 13,
   "metadata": {},
   "outputs": [],
   "source": [
    "# summarize model performance and define accuracy\n",
    "def summarize_performance(scores):\n",
    "    \n",
    "    # print summary\n",
    "    print('Accuracy: mean=%.3f std=%.3f, n=%d' % (mean(scores)*100, std(scores)*100, len(scores)))\n",
    "    # box and whisker plots of results\n",
    "    plt.boxplot(scores)\n",
    "    plt.show()"
   ]
  },
  {
   "cell_type": "code",
   "execution_count": 14,
   "metadata": {},
   "outputs": [],
   "source": [
    "###### Full runner Method : -> utilize this execution utility method to run the whole script modularly.\n",
    "\n",
    "# run the test harness for evaluating a model\n",
    "def run_model():\n",
    "    # load dataset\n",
    "    trainX, trainY, testX, testY = load_dataset()\n",
    "    \n",
    "    # prepare pixel data\n",
    "    trainX, testX = prep_pixels(trainX, testX)\n",
    "    \n",
    "    # evaluate model\n",
    "    scores, model_histories = evaluate_model(trainX, trainY)\n",
    "    \n",
    "    # learning curves\n",
    "    summarize_results(model_histories)\n",
    "    \n",
    "    # summarize estimated performance\n",
    "    summarize_performance(scores)\n"
   ]
  },
  {
   "cell_type": "code",
   "execution_count": 15,
   "metadata": {},
   "outputs": [
    {
     "name": "stdout",
     "output_type": "stream",
     "text": [
      "Epoch 1/10\n",
      "1500/1500 [==============================] - 35s 23ms/step - loss: 0.1881 - accuracy: 0.9414 - val_loss: 0.0958 - val_accuracy: 0.9717\n",
      "Epoch 2/10\n",
      "1500/1500 [==============================] - 29s 20ms/step - loss: 0.0624 - accuracy: 0.9812 - val_loss: 0.0720 - val_accuracy: 0.9772\n",
      "Epoch 3/10\n",
      "1500/1500 [==============================] - 24s 16ms/step - loss: 0.0387 - accuracy: 0.9880 - val_loss: 0.0639 - val_accuracy: 0.9806\n",
      "Epoch 4/10\n",
      "1500/1500 [==============================] - 25s 17ms/step - loss: 0.0273 - accuracy: 0.9917 - val_loss: 0.0624 - val_accuracy: 0.9821\n",
      "Epoch 5/10\n",
      "1500/1500 [==============================] - 28s 19ms/step - loss: 0.0185 - accuracy: 0.9947 - val_loss: 0.0579 - val_accuracy: 0.9840\n",
      "Epoch 6/10\n",
      "1500/1500 [==============================] - 27s 18ms/step - loss: 0.0132 - accuracy: 0.9961 - val_loss: 0.0555 - val_accuracy: 0.9847\n",
      "Epoch 7/10\n",
      "1500/1500 [==============================] - 25s 17ms/step - loss: 0.0086 - accuracy: 0.9979 - val_loss: 0.0586 - val_accuracy: 0.9848\n",
      "Epoch 8/10\n",
      "1500/1500 [==============================] - 26s 17ms/step - loss: 0.0056 - accuracy: 0.9987 - val_loss: 0.0630 - val_accuracy: 0.9841\n",
      "Epoch 9/10\n",
      "1500/1500 [==============================] - 25s 17ms/step - loss: 0.0039 - accuracy: 0.9993 - val_loss: 0.0613 - val_accuracy: 0.9853\n",
      "Epoch 10/10\n",
      "1500/1500 [==============================] - 25s 17ms/step - loss: 0.0027 - accuracy: 0.9996 - val_loss: 0.0616 - val_accuracy: 0.9852\n",
      "> 98.517\n",
      "Epoch 1/10\n",
      "1500/1500 [==============================] - 27s 18ms/step - loss: 0.1969 - accuracy: 0.9382 - val_loss: 0.0975 - val_accuracy: 0.9704\n",
      "Epoch 2/10\n",
      "1500/1500 [==============================] - 25s 17ms/step - loss: 0.0664 - accuracy: 0.9803 - val_loss: 0.0712 - val_accuracy: 0.9788\n",
      "Epoch 3/10\n",
      "1500/1500 [==============================] - 27s 18ms/step - loss: 0.0420 - accuracy: 0.9869 - val_loss: 0.0566 - val_accuracy: 0.9834\n",
      "Epoch 4/10\n",
      "1500/1500 [==============================] - 27s 18ms/step - loss: 0.0287 - accuracy: 0.9911 - val_loss: 0.0579 - val_accuracy: 0.9822\n",
      "Epoch 5/10\n",
      "1500/1500 [==============================] - 27s 18ms/step - loss: 0.0201 - accuracy: 0.9944 - val_loss: 0.0520 - val_accuracy: 0.9842\n",
      "Epoch 6/10\n",
      "1500/1500 [==============================] - 26s 18ms/step - loss: 0.0136 - accuracy: 0.9960 - val_loss: 0.0490 - val_accuracy: 0.9863\n",
      "Epoch 7/10\n",
      "1500/1500 [==============================] - 27s 18ms/step - loss: 0.0094 - accuracy: 0.9975 - val_loss: 0.0503 - val_accuracy: 0.9859\n",
      "Epoch 8/10\n",
      "1500/1500 [==============================] - 26s 18ms/step - loss: 0.0064 - accuracy: 0.9985 - val_loss: 0.0481 - val_accuracy: 0.9868\n",
      "Epoch 9/10\n",
      "1500/1500 [==============================] - 23s 15ms/step - loss: 0.0043 - accuracy: 0.9994 - val_loss: 0.0481 - val_accuracy: 0.9872\n",
      "Epoch 10/10\n",
      "1500/1500 [==============================] - 22s 14ms/step - loss: 0.0030 - accuracy: 0.9994 - val_loss: 0.0505 - val_accuracy: 0.9867\n",
      "> 98.667\n",
      "Epoch 1/10\n",
      "1500/1500 [==============================] - 24s 15ms/step - loss: 0.1799 - accuracy: 0.9461 - val_loss: 0.0853 - val_accuracy: 0.9735\n",
      "Epoch 2/10\n",
      "1500/1500 [==============================] - 22s 15ms/step - loss: 0.0624 - accuracy: 0.9815 - val_loss: 0.0721 - val_accuracy: 0.9771\n",
      "Epoch 3/10\n",
      "1500/1500 [==============================] - 22s 14ms/step - loss: 0.0416 - accuracy: 0.9875 - val_loss: 0.0518 - val_accuracy: 0.9833\n",
      "Epoch 4/10\n",
      "1500/1500 [==============================] - 22s 14ms/step - loss: 0.0280 - accuracy: 0.9917 - val_loss: 0.0552 - val_accuracy: 0.9827\n",
      "Epoch 5/10\n",
      "1500/1500 [==============================] - 22s 15ms/step - loss: 0.0193 - accuracy: 0.9945 - val_loss: 0.0518 - val_accuracy: 0.9848\n",
      "Epoch 6/10\n",
      "1500/1500 [==============================] - 22s 14ms/step - loss: 0.0140 - accuracy: 0.9960 - val_loss: 0.0470 - val_accuracy: 0.9858\n",
      "Epoch 7/10\n",
      "1500/1500 [==============================] - 22s 15ms/step - loss: 0.0084 - accuracy: 0.9979 - val_loss: 0.0549 - val_accuracy: 0.9852\n",
      "Epoch 8/10\n",
      "1500/1500 [==============================] - 22s 15ms/step - loss: 0.0054 - accuracy: 0.9990 - val_loss: 0.0522 - val_accuracy: 0.9843\n",
      "Epoch 9/10\n",
      "1500/1500 [==============================] - 22s 15ms/step - loss: 0.0033 - accuracy: 0.9996 - val_loss: 0.0519 - val_accuracy: 0.9860\n",
      "Epoch 10/10\n",
      "1500/1500 [==============================] - 22s 15ms/step - loss: 0.0023 - accuracy: 0.9998 - val_loss: 0.0548 - val_accuracy: 0.9863\n",
      "> 98.633\n",
      "Epoch 1/10\n",
      "1500/1500 [==============================] - 23s 15ms/step - loss: 0.1921 - accuracy: 0.9405 - val_loss: 0.0760 - val_accuracy: 0.9757\n",
      "Epoch 2/10\n",
      "1500/1500 [==============================] - 22s 14ms/step - loss: 0.0662 - accuracy: 0.9802 - val_loss: 0.0579 - val_accuracy: 0.9812\n",
      "Epoch 3/10\n",
      "1500/1500 [==============================] - 22s 15ms/step - loss: 0.0432 - accuracy: 0.9875 - val_loss: 0.0546 - val_accuracy: 0.9827\n",
      "Epoch 4/10\n",
      "1500/1500 [==============================] - 23s 15ms/step - loss: 0.0306 - accuracy: 0.9910 - val_loss: 0.0538 - val_accuracy: 0.9828\n",
      "Epoch 5/10\n",
      "1500/1500 [==============================] - 23s 15ms/step - loss: 0.0220 - accuracy: 0.9935 - val_loss: 0.0503 - val_accuracy: 0.9843\n",
      "Epoch 6/10\n",
      "1500/1500 [==============================] - 22s 15ms/step - loss: 0.0146 - accuracy: 0.9958 - val_loss: 0.0444 - val_accuracy: 0.9877\n",
      "Epoch 7/10\n",
      "1500/1500 [==============================] - 23s 15ms/step - loss: 0.0102 - accuracy: 0.9975 - val_loss: 0.0459 - val_accuracy: 0.9861\n",
      "Epoch 8/10\n",
      "1500/1500 [==============================] - 23s 16ms/step - loss: 0.0067 - accuracy: 0.9985 - val_loss: 0.0445 - val_accuracy: 0.9879\n",
      "Epoch 9/10\n",
      "1500/1500 [==============================] - 22s 15ms/step - loss: 0.0048 - accuracy: 0.9990 - val_loss: 0.0432 - val_accuracy: 0.9878\n",
      "Epoch 10/10\n",
      "1500/1500 [==============================] - 23s 15ms/step - loss: 0.0037 - accuracy: 0.9994 - val_loss: 0.0476 - val_accuracy: 0.9876\n",
      "> 98.758\n",
      "Epoch 1/10\n",
      "1500/1500 [==============================] - 23s 15ms/step - loss: 0.1951 - accuracy: 0.9395 - val_loss: 0.0943 - val_accuracy: 0.9730\n",
      "Epoch 2/10\n",
      "1500/1500 [==============================] - 23s 15ms/step - loss: 0.0655 - accuracy: 0.9799 - val_loss: 0.0641 - val_accuracy: 0.9820\n",
      "Epoch 3/10\n",
      "1500/1500 [==============================] - 23s 15ms/step - loss: 0.0410 - accuracy: 0.9872 - val_loss: 0.0555 - val_accuracy: 0.9833\n",
      "Epoch 4/10\n",
      "1500/1500 [==============================] - 23s 15ms/step - loss: 0.0275 - accuracy: 0.9920 - val_loss: 0.0502 - val_accuracy: 0.9849\n",
      "Epoch 5/10\n",
      "1500/1500 [==============================] - 23s 15ms/step - loss: 0.0192 - accuracy: 0.9948 - val_loss: 0.0555 - val_accuracy: 0.9843\n",
      "Epoch 6/10\n",
      "1500/1500 [==============================] - 23s 15ms/step - loss: 0.0141 - accuracy: 0.9962 - val_loss: 0.0480 - val_accuracy: 0.9863\n",
      "Epoch 7/10\n",
      "1500/1500 [==============================] - 23s 15ms/step - loss: 0.0086 - accuracy: 0.9979 - val_loss: 0.0559 - val_accuracy: 0.9852\n",
      "Epoch 8/10\n",
      "1500/1500 [==============================] - 23s 15ms/step - loss: 0.0068 - accuracy: 0.9984 - val_loss: 0.0552 - val_accuracy: 0.9853\n",
      "Epoch 9/10\n",
      "1500/1500 [==============================] - 23s 15ms/step - loss: 0.0047 - accuracy: 0.9992 - val_loss: 0.0495 - val_accuracy: 0.9868\n",
      "Epoch 10/10\n",
      "1500/1500 [==============================] - 23s 15ms/step - loss: 0.0032 - accuracy: 0.9995 - val_loss: 0.0515 - val_accuracy: 0.9874\n",
      "> 98.742\n"
     ]
    },
    {
     "name": "stderr",
     "output_type": "stream",
     "text": [
      "<ipython-input-12-a55c80274b63>:5: MatplotlibDeprecationWarning: Adding an axes using the same arguments as a previous axes currently reuses the earlier instance.  In a future version, a new instance will always be created and returned.  Meanwhile, this warning can be suppressed, and the future behavior ensured, by passing a unique label to each axes instance.\n",
      "  plt.subplot(2, 1, 1)\n",
      "<ipython-input-12-a55c80274b63>:10: MatplotlibDeprecationWarning: Adding an axes using the same arguments as a previous axes currently reuses the earlier instance.  In a future version, a new instance will always be created and returned.  Meanwhile, this warning can be suppressed, and the future behavior ensured, by passing a unique label to each axes instance.\n",
      "  plt.subplot(2, 1, 2)\n"
     ]
    },
    {
     "data": {
      "image/png": "[encoded data removed]",
      "text/plain": [
       "<Figure size 432x288 with 2 Axes>"
      ]
     },
     "metadata": {
      "needs_background": "light"
     },
     "output_type": "display_data"
    },
    {
     "name": "stdout",
     "output_type": "stream",
     "text": [
      "Accuracy: mean=98.663 std=0.087, n=5\n"
     ]
    },
    {
     "data": {
      "image/png": "[encoded data removed]",
      "text/plain": [
       "<Figure size 432x288 with 1 Axes>"
      ]
     },
     "metadata": {
      "needs_background": "light"
     },
     "output_type": "display_data"
    }
   ],
   "source": [
    "###### Begin\n",
    "run_model()"
   ]
  },
  {
   "cell_type": "code",
   "execution_count": 21,
   "metadata": {},
   "outputs": [],
   "source": [
    "# Enhancing Model by:\n",
    "#     1. Adding more conv layers to our model.\n",
    "#     2. Updating learning rate of SGD actually produced a lower accuracy model. reverted to default 0.01\n",
    "\n",
    "    \n",
    "def define_model():\n",
    "    # model creation\n",
    "    model = Sequential([\n",
    "        Conv2D(32, (3, 3), activation='relu', kernel_initializer='he_uniform', input_shape=(28, 28, 1)),\n",
    "        MaxPooling2D(2, 2),\n",
    "        Conv2D(64, (3, 3), activation='relu', kernel_initializer='he_uniform'),\n",
    "        Conv2D(64, (3, 3), activation='relu', kernel_initializer='he_uniform'),\n",
    "        MaxPooling2D(2, 2),\n",
    "        Flatten(),\n",
    "        Dense(100, activation='relu', kernel_initializer='he_uniform'),\n",
    "        Dense(10, activation='softmax')\n",
    "    ])\n",
    "    \n",
    "    # compile model\n",
    "    opt = SGD(learning_rate=0.01, momentum=0.9)\n",
    "    model.compile(optimizer=opt, loss='categorical_crossentropy', metrics=['accuracy'])\n",
    "    return model"
   ]
  },
  {
   "cell_type": "code",
   "execution_count": 19,
   "metadata": {
    "scrolled": true
   },
   "outputs": [
    {
     "name": "stdout",
     "output_type": "stream",
     "text": [
      "Epoch 1/10\n",
      "1500/1500 [==============================] - 45s 29ms/step - loss: 0.1311 - accuracy: 0.9588 - val_loss: 0.0648 - val_accuracy: 0.9811\n",
      "Epoch 2/10\n",
      "1500/1500 [==============================] - 44s 29ms/step - loss: 0.0448 - accuracy: 0.9858 - val_loss: 0.0597 - val_accuracy: 0.9825\n",
      "Epoch 3/10\n",
      "1500/1500 [==============================] - 44s 30ms/step - loss: 0.0299 - accuracy: 0.9904 - val_loss: 0.0469 - val_accuracy: 0.9874\n",
      "Epoch 4/10\n",
      "1500/1500 [==============================] - 44s 30ms/step - loss: 0.0215 - accuracy: 0.9932 - val_loss: 0.0522 - val_accuracy: 0.9852\n",
      "Epoch 5/10\n",
      "1500/1500 [==============================] - 44s 30ms/step - loss: 0.0147 - accuracy: 0.9950 - val_loss: 0.0480 - val_accuracy: 0.9883\n",
      "Epoch 6/10\n",
      "1500/1500 [==============================] - 45s 30ms/step - loss: 0.0112 - accuracy: 0.9960 - val_loss: 0.0449 - val_accuracy: 0.9885\n",
      "Epoch 7/10\n",
      "1500/1500 [==============================] - 46s 30ms/step - loss: 0.0082 - accuracy: 0.9975 - val_loss: 0.0425 - val_accuracy: 0.9890\n",
      "Epoch 8/10\n",
      "1500/1500 [==============================] - 44s 30ms/step - loss: 0.0062 - accuracy: 0.9981 - val_loss: 0.0481 - val_accuracy: 0.9889\n",
      "Epoch 9/10\n",
      "1500/1500 [==============================] - 44s 29ms/step - loss: 0.0050 - accuracy: 0.9983 - val_loss: 0.0548 - val_accuracy: 0.9881\n",
      "Epoch 10/10\n",
      "1500/1500 [==============================] - 43s 29ms/step - loss: 0.0050 - accuracy: 0.9983 - val_loss: 0.0527 - val_accuracy: 0.9898\n",
      "> 98.975\n",
      "Epoch 1/10\n",
      "1500/1500 [==============================] - 44s 29ms/step - loss: 0.1330 - accuracy: 0.9578 - val_loss: 0.0569 - val_accuracy: 0.9839\n",
      "Epoch 2/10\n",
      "1500/1500 [==============================] - 43s 29ms/step - loss: 0.0445 - accuracy: 0.9864 - val_loss: 0.0483 - val_accuracy: 0.9848\n",
      "Epoch 3/10\n",
      "1500/1500 [==============================] - 43s 29ms/step - loss: 0.0288 - accuracy: 0.9909 - val_loss: 0.0459 - val_accuracy: 0.9862\n",
      "Epoch 4/10\n",
      "1500/1500 [==============================] - 44s 29ms/step - loss: 0.0209 - accuracy: 0.9935 - val_loss: 0.0355 - val_accuracy: 0.9888\n",
      "Epoch 5/10\n",
      "1500/1500 [==============================] - 44s 30ms/step - loss: 0.0157 - accuracy: 0.9952 - val_loss: 0.0375 - val_accuracy: 0.9887\n",
      "Epoch 6/10\n",
      "1500/1500 [==============================] - 43s 29ms/step - loss: 0.0108 - accuracy: 0.9964 - val_loss: 0.0352 - val_accuracy: 0.9902\n",
      "Epoch 7/10\n",
      "1500/1500 [==============================] - 43s 29ms/step - loss: 0.0088 - accuracy: 0.9972 - val_loss: 0.0336 - val_accuracy: 0.9904\n",
      "Epoch 8/10\n",
      "1500/1500 [==============================] - 43s 29ms/step - loss: 0.0059 - accuracy: 0.9983 - val_loss: 0.0439 - val_accuracy: 0.9895\n",
      "Epoch 9/10\n",
      "1500/1500 [==============================] - 43s 29ms/step - loss: 0.0067 - accuracy: 0.9978 - val_loss: 0.0453 - val_accuracy: 0.9893\n",
      "Epoch 10/10\n",
      "1500/1500 [==============================] - 43s 29ms/step - loss: 0.0030 - accuracy: 0.9990 - val_loss: 0.0418 - val_accuracy: 0.9895\n",
      "> 98.950\n",
      "Epoch 1/10\n",
      "1500/1500 [==============================] - 44s 29ms/step - loss: 0.1412 - accuracy: 0.9546 - val_loss: 0.0727 - val_accuracy: 0.9773\n",
      "Epoch 2/10\n",
      "1500/1500 [==============================] - 43s 29ms/step - loss: 0.0465 - accuracy: 0.9855 - val_loss: 0.0559 - val_accuracy: 0.9835\n",
      "Epoch 3/10\n",
      "1500/1500 [==============================] - 43s 29ms/step - loss: 0.0306 - accuracy: 0.9902 - val_loss: 0.0434 - val_accuracy: 0.9875\n",
      "Epoch 4/10\n",
      "1500/1500 [==============================] - 44s 29ms/step - loss: 0.0213 - accuracy: 0.9930 - val_loss: 0.0446 - val_accuracy: 0.9877\n",
      "Epoch 5/10\n",
      "1500/1500 [==============================] - 44s 29ms/step - loss: 0.0159 - accuracy: 0.9949 - val_loss: 0.0486 - val_accuracy: 0.9877\n",
      "Epoch 6/10\n",
      "1500/1500 [==============================] - 44s 29ms/step - loss: 0.0126 - accuracy: 0.9956 - val_loss: 0.0393 - val_accuracy: 0.9901\n",
      "Epoch 7/10\n",
      "1500/1500 [==============================] - 44s 29ms/step - loss: 0.0069 - accuracy: 0.9978 - val_loss: 0.0428 - val_accuracy: 0.9897\n",
      "Epoch 8/10\n",
      "1500/1500 [==============================] - 44s 29ms/step - loss: 0.0059 - accuracy: 0.9980 - val_loss: 0.0493 - val_accuracy: 0.9893\n",
      "Epoch 9/10\n",
      "1500/1500 [==============================] - 44s 29ms/step - loss: 0.0067 - accuracy: 0.9979 - val_loss: 0.0555 - val_accuracy: 0.9877\n",
      "Epoch 10/10\n",
      "1500/1500 [==============================] - 44s 29ms/step - loss: 0.0041 - accuracy: 0.9986 - val_loss: 0.0512 - val_accuracy: 0.9898\n",
      "> 98.975\n",
      "Epoch 1/10\n",
      "1500/1500 [==============================] - 45s 30ms/step - loss: 0.1376 - accuracy: 0.9569 - val_loss: 0.0479 - val_accuracy: 0.9847\n",
      "Epoch 2/10\n",
      "1500/1500 [==============================] - 39s 26ms/step - loss: 0.0471 - accuracy: 0.9853 - val_loss: 0.0386 - val_accuracy: 0.9878\n",
      "Epoch 3/10\n",
      "1500/1500 [==============================] - 40s 27ms/step - loss: 0.0297 - accuracy: 0.9903 - val_loss: 0.0339 - val_accuracy: 0.9882\n",
      "Epoch 4/10\n",
      "1500/1500 [==============================] - 41s 27ms/step - loss: 0.0220 - accuracy: 0.9930 - val_loss: 0.0350 - val_accuracy: 0.9900\n",
      "Epoch 5/10\n",
      "1500/1500 [==============================] - 42s 28ms/step - loss: 0.0169 - accuracy: 0.9945 - val_loss: 0.0347 - val_accuracy: 0.9898\n",
      "Epoch 6/10\n",
      "1500/1500 [==============================] - 41s 27ms/step - loss: 0.0119 - accuracy: 0.9965 - val_loss: 0.0355 - val_accuracy: 0.9894\n",
      "Epoch 7/10\n",
      "1500/1500 [==============================] - 42s 28ms/step - loss: 0.0076 - accuracy: 0.9976 - val_loss: 0.0375 - val_accuracy: 0.9907\n",
      "Epoch 8/10\n",
      "1500/1500 [==============================] - 41s 27ms/step - loss: 0.0059 - accuracy: 0.9981 - val_loss: 0.0303 - val_accuracy: 0.9918\n",
      "Epoch 9/10\n",
      "1500/1500 [==============================] - 41s 27ms/step - loss: 0.0053 - accuracy: 0.9983 - val_loss: 0.0339 - val_accuracy: 0.9918\n",
      "Epoch 10/10\n",
      "1500/1500 [==============================] - 41s 27ms/step - loss: 0.0030 - accuracy: 0.9992 - val_loss: 0.0336 - val_accuracy: 0.9921\n",
      "> 99.208\n",
      "Epoch 1/10\n",
      "1500/1500 [==============================] - 43s 28ms/step - loss: 0.1440 - accuracy: 0.9548 - val_loss: 0.0751 - val_accuracy: 0.9764\n",
      "Epoch 2/10\n",
      "1500/1500 [==============================] - 43s 29ms/step - loss: 0.0489 - accuracy: 0.9849 - val_loss: 0.0514 - val_accuracy: 0.9849\n",
      "Epoch 3/10\n",
      "1500/1500 [==============================] - 41s 27ms/step - loss: 0.0333 - accuracy: 0.9894 - val_loss: 0.0450 - val_accuracy: 0.9867\n",
      "Epoch 4/10\n",
      "1500/1500 [==============================] - 39s 26ms/step - loss: 0.0231 - accuracy: 0.9927 - val_loss: 0.0407 - val_accuracy: 0.9883\n",
      "Epoch 5/10\n",
      "1500/1500 [==============================] - 40s 27ms/step - loss: 0.0165 - accuracy: 0.9951 - val_loss: 0.0470 - val_accuracy: 0.9865\n",
      "Epoch 6/10\n",
      "1500/1500 [==============================] - 47s 31ms/step - loss: 0.0137 - accuracy: 0.9954 - val_loss: 0.0430 - val_accuracy: 0.9884\n",
      "Epoch 7/10\n",
      "1500/1500 [==============================] - 42s 28ms/step - loss: 0.0096 - accuracy: 0.9972 - val_loss: 0.0401 - val_accuracy: 0.9894\n",
      "Epoch 8/10\n",
      "1500/1500 [==============================] - 46s 30ms/step - loss: 0.0087 - accuracy: 0.9972 - val_loss: 0.0512 - val_accuracy: 0.9880\n",
      "Epoch 9/10\n",
      "1500/1500 [==============================] - 43s 28ms/step - loss: 0.0064 - accuracy: 0.9980 - val_loss: 0.0414 - val_accuracy: 0.9901\n",
      "Epoch 10/10\n",
      "1500/1500 [==============================] - 43s 29ms/step - loss: 0.0037 - accuracy: 0.9989 - val_loss: 0.0400 - val_accuracy: 0.9904\n",
      "> 99.042\n"
     ]
    },
    {
     "name": "stderr",
     "output_type": "stream",
     "text": [
      "<ipython-input-12-a55c80274b63>:5: MatplotlibDeprecationWarning: Adding an axes using the same arguments as a previous axes currently reuses the earlier instance.  In a future version, a new instance will always be created and returned.  Meanwhile, this warning can be suppressed, and the future behavior ensured, by passing a unique label to each axes instance.\n",
      "  plt.subplot(2, 1, 1)\n",
      "<ipython-input-12-a55c80274b63>:10: MatplotlibDeprecationWarning: Adding an axes using the same arguments as a previous axes currently reuses the earlier instance.  In a future version, a new instance will always be created and returned.  Meanwhile, this warning can be suppressed, and the future behavior ensured, by passing a unique label to each axes instance.\n",
      "  plt.subplot(2, 1, 2)\n"
     ]
    },
    {
     "data": {
      "image/png": "[encoded data removed]",
      "text/plain": [
       "<Figure size 432x288 with 2 Axes>"
      ]
     },
     "metadata": {
      "needs_background": "light"
     },
     "output_type": "display_data"
    },
    {
     "name": "stdout",
     "output_type": "stream",
     "text": [
      "Accuracy: mean=99.030 std=0.094, n=5\n"
     ]
    },
    {
     "data": {
      "image/png": "[encoded data removed]",
      "text/plain": [
       "<Figure size 432x288 with 1 Axes>"
      ]
     },
     "metadata": {
      "needs_background": "light"
     },
     "output_type": "display_data"
    }
   ],
   "source": [
    "###### Begin\n",
    "run_model()"
   ]
  },
  {
   "cell_type": "code",
   "execution_count": 22,
   "metadata": {},
   "outputs": [
    {
     "name": "stdout",
     "output_type": "stream",
     "text": [
      "Epoch 1/10\n",
      "1875/1875 [==============================] - 48s 25ms/step - loss: 0.1240 - accuracy: 0.96150s - loss: 0.1241 - accuracy: 0.\n",
      "Epoch 2/10\n",
      "1875/1875 [==============================] - 47s 25ms/step - loss: 0.0429 - accuracy: 0.9863\n",
      "Epoch 3/10\n",
      "1875/1875 [==============================] - 45s 24ms/step - loss: 0.0280 - accuracy: 0.9913\n",
      "Epoch 4/10\n",
      "1875/1875 [==============================] - 43s 23ms/step - loss: 0.0209 - accuracy: 0.9933\n",
      "Epoch 5/10\n",
      "1875/1875 [==============================] - 43s 23ms/step - loss: 0.0157 - accuracy: 0.9949\n",
      "Epoch 6/10\n",
      "1875/1875 [==============================] - 47s 25ms/step - loss: 0.0127 - accuracy: 0.9958\n",
      "Epoch 7/10\n",
      "1875/1875 [==============================] - 55s 29ms/step - loss: 0.0086 - accuracy: 0.9975\n",
      "Epoch 8/10\n",
      "1875/1875 [==============================] - 56s 30ms/step - loss: 0.0072 - accuracy: 0.9977\n",
      "Epoch 9/10\n",
      "1875/1875 [==============================] - 54s 29ms/step - loss: 0.0057 - accuracy: 0.9982\n",
      "Epoch 10/10\n",
      "1875/1875 [==============================] - 52s 28ms/step - loss: 0.0047 - accuracy: 0.9985\n"
     ]
    }
   ],
   "source": [
    "### Our enhancement as brought about the following changes:\n",
    "# Accuracy: mean=98.663 std=0.087, n=5\n",
    "# Accuracy: mean=99.030 std=0.094, n=5\n",
    "\n",
    "### Now we can implement and save this model for us later\n",
    "\n",
    "def run_model_final():\n",
    "    # load dataset\n",
    "    trainX, trainY, testX, testY = load_dataset()\n",
    "    # prepare pixel data\n",
    "    trainX, testX = prep_pixels(trainX, testX)\n",
    "    # define model\n",
    "    model = define_model()\n",
    "    # fit model\n",
    "    model.fit(trainX, trainY, epochs=10, batch_size=32, verbose=1)\n",
    "    # save model\n",
    "    model.save('mnist_final_model.h5')\n",
    "\n",
    "\n",
    "    \n",
    "## Enter final model stage -> save model here. (Verbose 1 to review results)\n",
    "run_model_final()"
   ]
  },
  {
   "cell_type": "code",
   "execution_count": 33,
   "metadata": {},
   "outputs": [
    {
     "name": "stdout",
     "output_type": "stream",
     "text": [
      "3\n"
     ]
    }
   ],
   "source": [
    "###### Testing with imported images -> need keras preprocessing img_to_array and load_img imports.\n",
    "from numpy import argmax\n",
    "from keras.preprocessing.image import load_img\n",
    "from keras.preprocessing.image import img_to_array\n",
    "from keras.models import load_model\n",
    "\n",
    "import os \n",
    "\n",
    "# load and prepare the image -> remember from our preprocessing, we need to first use tnsflow to loadimage with target size\n",
    "#   and reshape as expected\n",
    "def load_image(filename):\n",
    "    # load the image\n",
    "    img = load_img(filename, grayscale=True, target_size=(28, 28))\n",
    "    # convert to array\n",
    "    img = img_to_array(img)\n",
    "    # reshape into a single sample with 1 channel\n",
    "    img = img.reshape(1, 28, 28, 1)\n",
    "    # prepare pixel data\n",
    "    img = img.astype('float32')\n",
    "    img = img / 255.0\n",
    "    \n",
    "    #print(\"Image Transformation:\\n\", img)\n",
    "    return img\n",
    "\n",
    "# load the image and predict the class\n",
    "def run_prediction():\n",
    "    # load the image\n",
    "    img = load_image(os. getcwd() + '\\samplepic_3.png')\n",
    "    # load model\n",
    "    model = load_model('mnist_final_model.h5')\n",
    "    # predict the class\n",
    "    predict_value = model.predict(img)\n",
    "    digit = argmax(predict_value)\n",
    "    print(digit)\n",
    "\n",
    "    \n",
    "# entry point, run the example\n",
    "run_prediction()\n",
    "\n"
   ]
  }
 ],
 "metadata": {
  "kernelspec": {
   "display_name": "Python 3",
   "language": "python",
   "name": "python3"
  },
  "language_info": {
   "codemirror_mode": {
    "name": "ipython",
    "version": 3
   },
   "file_extension": ".py",
   "mimetype": "text/x-python",
   "name": "python",
   "nbconvert_exporter": "python",
   "pygments_lexer": "ipython3",
   "version": "3.8.3"
  }
 },
 "nbformat": 4,
 "nbformat_minor": 4
}
